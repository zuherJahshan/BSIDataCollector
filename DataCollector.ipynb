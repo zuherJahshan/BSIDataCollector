{
 "cells": [
  {
   "cell_type": "code",
   "execution_count": 2,
   "id": "c03f4cd2",
   "metadata": {},
   "outputs": [],
   "source": [
    "from DataCollector import BSIDataCollector"
   ]
  },
  {
   "cell_type": "code",
   "execution_count": 3,
   "id": "db7051a2",
   "metadata": {},
   "outputs": [],
   "source": [
    "bdc = BSIDataCollector()"
   ]
  },
  {
   "cell_type": "code",
   "execution_count": 4,
   "id": "567d22a1",
   "metadata": {},
   "outputs": [
    {
     "data": {
      "text/plain": [
       "['M008', 'M001', 'R001', 'M013', 'M012', 'M010', 'M009']"
      ]
     },
     "execution_count": 4,
     "metadata": {},
     "output_type": "execute_result"
    }
   ],
   "source": [
    "bdc.getPatients()"
   ]
  },
  {
   "cell_type": "code",
   "execution_count": 5,
   "id": "f0bc976b",
   "metadata": {},
   "outputs": [],
   "source": [
    "samples = bdc.getBloodSamples(bdc.getPatients()[3])"
   ]
  },
  {
   "cell_type": "code",
   "execution_count": 6,
   "id": "45dfe388",
   "metadata": {},
   "outputs": [
    {
     "name": "stdout",
     "output_type": "stream",
     "text": [
      "GTCTTGTGTATGGCCATAATAGCTTCTGGTGTGACCTTTTCTTCTTTTGCGACTTCTTCATAAATGATTTTGTATTCTTTTGGCACTTGCCAATCATTAGCGATTCCTCGTTCACAACGTACTTTCTGATTCGTAAATGGATCGACTGCGC\n",
      "GTATTAGATGATCCAACGAACCATTTAGACTTAGAATCAATCACAGCATTGAATGACGGCTTGATGGCATTTACTGGCTCAATCTTATTTGCGTCACATGACCATCAATTTATCCAAACATTGGCAAACCGCATCATTGCCGTTTCGGATA\n",
      "AGTTAACATAATGTACACTATGCCAAGTAGCCCCTCTACCAATGGATAGAGACGCTCACTTTGTGATTTCTAATTGGTCTAGCTAAAAGCAACTTTCTAAAGCTTGATTTTTCGCGGTTATCTATATCTAATTCTTTGTGCATTTTTATCT\n",
      "ATTAAATACCTGAATAATTTGATTGAACAAGACCATCGTCCAGTAAAGAGACGCAATAAATTCTATCGAAGTTTACGCACTGCCTCTACAACGATTAAAGGCATGGAAGCCATCCGAGGATTATATAAGAAAACCCGAAAAGAAGGCACTC\n",
      "TGGTGTGTGAAGGTCTAATAAATCAGACTGTCTTCGTCACCTCCATCTGTTGAACGGACTTCGATCACTAATTTATGTGGCAAACAGACGATGGTTTCGCCATTTTTCGTTGCCCAGCCTCGACGTACGCAGATCTGGTCATCGCAATCTG\n",
      "CTCAAAAATTTCAGAAAAATATCGAAGAAATCTTGGTAGCACCTGTTCCTACGCATGTGATTATTTGGGGCTTTGTGATTGGTGGTGTGGGTCGCAGTATTCTCGTCGGCTCTCTCGTAACGATCATTTCCTTGTTCTTTGTACCACTTCA\n",
      "CGCGTGGGACTATTCGAACGTACGCTTGGCGAAATCACACCGATCGAAAAGGGCACGAATATAAGTATTTGGAGGAGAAATAATGGATCTCATTACACAATACAGTGATATCATCCTCAAGAAAATCATGGCAAAGATTCAGAAAGATAAA\n",
      "GTATTTGTATGGTATACATAAATTATACATAATTGCAAAAGGAGATTTTTTATGGACATTTTAGTTCGGAATATTGATCCAAAGTTTGTTGCAACAATAGACAAACGTTGCCAAGAACTCACGAATAAAACAGGAGAAAAATGGAGTCGAA\n",
      "AGAGAAATAATACCTAACAATTTAGGAGGCAATTATCATGCAACCCAAAGAAACCTTTACAATAAAGGAATTATCTGAATTATTTGAAATAAGTAGGCAAGCAATCTCTAAACATGTTGATAAATTAGACCCGTCCTTATTAGCTAAAAAT\n"
     ]
    }
   ],
   "source": [
    "cnt = 0\n",
    "for id, read, _ in bdc.getReads(samples[0]):\n",
    "    cnt += 1\n",
    "    if cnt % 1000000 == 0:\n",
    "        print(read)"
   ]
  },
  {
   "cell_type": "code",
   "execution_count": null,
   "id": "1f8b2a0d",
   "metadata": {},
   "outputs": [],
   "source": []
  }
 ],
 "metadata": {
  "kernelspec": {
   "display_name": "GDA",
   "language": "python",
   "name": "python3"
  },
  "language_info": {
   "codemirror_mode": {
    "name": "ipython",
    "version": 3
   },
   "file_extension": ".py",
   "mimetype": "text/x-python",
   "name": "python",
   "nbconvert_exporter": "python",
   "pygments_lexer": "ipython3",
   "version": "3.10.8"
  },
  "vscode": {
   "interpreter": {
    "hash": "903702d7ad4700ada84df9dfd859f57034b272e374ef4f62b501d24cc1099dde"
   }
  }
 },
 "nbformat": 4,
 "nbformat_minor": 5
}
